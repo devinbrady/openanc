{
 "cells": [
  {
   "cell_type": "code",
   "execution_count": 1,
   "metadata": {},
   "outputs": [],
   "source": [
    "import pandas as pd"
   ]
  },
  {
   "cell_type": "code",
   "execution_count": 2,
   "metadata": {},
   "outputs": [],
   "source": [
    "districts = pd.read_csv('data/districts.csv')\n",
    "# officeholders = pd.read_csv('data/officeholders.csv')\n",
    "# candidates = pd.read_csv('data/candidates_dcboe.csv')"
   ]
  },
  {
   "cell_type": "code",
   "execution_count": null,
   "metadata": {},
   "outputs": [],
   "source": []
  },
  {
   "cell_type": "code",
   "execution_count": 3,
   "metadata": {},
   "outputs": [],
   "source": [
    "def build_commissioner_table(smd):\n",
    "    \n",
    "    officeholders = pd.read_csv('data/officeholders.csv')\n",
    "    \n",
    "    current_officeholder = officeholders[officeholders['smd'] == smd]\n",
    "    \n",
    "    if len(current_officeholder) == 0:\n",
    "        commissioner_table = '<p><em>Office is vacant.</em></p>'\n",
    "\n",
    "    else:\n",
    "    \n",
    "        commissioner_table = \"\"\"\n",
    "            <table border=\"1\">\n",
    "              <tbody>\n",
    "              \"\"\"\n",
    "        \n",
    "        commissioner_table += \"\"\"\n",
    "            <tr>\n",
    "              <th>Name</th>\n",
    "              <td>{full_name}</td>\n",
    "            </tr>        \n",
    "        \"\"\".format(full_name=current_officeholder['full_name'].values[0])\n",
    "            \n",
    "        commissioner_table += f\"\"\"\n",
    "            <tr>\n",
    "              <th>Email</th>\n",
    "              <td><a href=\"mailto:{smd}@anc.dc.gov\">{smd}@anc.dc.gov</a></td>\n",
    "            </tr>\n",
    "            \"\"\"\n",
    "\n",
    "        commissioner_table += \"\"\"\n",
    "                </tbody>\n",
    "            </table>\n",
    "        \"\"\"\n",
    "    \n",
    "    return commissioner_table"
   ]
  },
  {
   "cell_type": "code",
   "execution_count": 4,
   "metadata": {},
   "outputs": [],
   "source": [
    "def add_candidates(smd):\n",
    "    \"\"\"Add multiple candidates\"\"\"\n",
    "    \n",
    "    candidates = pd.read_csv('data/candidates_dcboe.csv')\n",
    "    candidates['source'] = 'DCBOE'\n",
    "    \n",
    "    # randomize the order of candidates\n",
    "    current_candidates = candidates[candidates['smd'] == smd].sample(frac=1)\n",
    "    \n",
    "    if len(current_candidates) == 0:\n",
    "        candidate_block = '<p><em>No known candidates.</em></p>'\n",
    "        \n",
    "    else:\n",
    "\n",
    "        candidate_block = ''\n",
    "\n",
    "        for idx, cand_row in current_candidates.iterrows():\n",
    "            candidate_block += build_candidate_table(cand_row)\n",
    "\n",
    "    return candidate_block\n",
    "\n",
    "\n",
    "def build_candidate_table(cand_row):\n",
    "    \"\"\"Create HTML table for one candidate\"\"\"\n",
    "        \n",
    "    candidate_table = \"\"\"\n",
    "        <table border=\"1\">\n",
    "          <tbody>\n",
    "          \"\"\"\n",
    "\n",
    "    if 'full_name' in cand_row:\n",
    "        candidate_table += \"\"\"\n",
    "            <tr>\n",
    "              <th>Name</th>\n",
    "              <td>{full_name}</td>\n",
    "            </tr>        \n",
    "        \"\"\".format(full_name=cand_row['full_name'])\n",
    "\n",
    "\n",
    "    if 'pickup_date' in cand_row:\n",
    "        candidate_table += \"\"\"\n",
    "            <tr>\n",
    "              <th>Announced</th>\n",
    "              <td>{pickup_date}</td>\n",
    "            </tr>        \n",
    "        \"\"\".format(pickup_date=cand_row['pickup_date'])\n",
    "\n",
    "        \n",
    "    if 'source' in cand_row:\n",
    "        candidate_table += \"\"\"\n",
    "            <tr>\n",
    "              <th>Source</th>\n",
    "              <td>{source}</td>\n",
    "            </tr>        \n",
    "        \"\"\".format(source=cand_row['source'])\n",
    "\n",
    "\n",
    "    candidate_table += \"\"\"\n",
    "            </tbody>\n",
    "        </table>\n",
    "        <br>\n",
    "    \"\"\"\n",
    "    \n",
    "    return candidate_table"
   ]
  },
  {
   "cell_type": "code",
   "execution_count": 12,
   "metadata": {},
   "outputs": [],
   "source": [
    "for idx, district in districts.iterrows():\n",
    "    \n",
    "    if district['smd'] not in ('1A02', '1A06', '1B05'):\n",
    "        continue\n",
    "    \n",
    "    with open('templates/smd.html') as f:\n",
    "        output = f.read()\n",
    "        \n",
    "    output = output.replace('<!-- replace with smd -->', district['smd'])\n",
    "    \n",
    "    output = output.replace('<!-- replace with commissioner table -->', build_commissioner_table(district['smd']))\n",
    "    \n",
    "    output = output.replace('<!-- replace with candidate table -->', add_candidates(district['smd']))\n",
    "    \n",
    "    output = output.replace('REPLACE_WITH_ANC', district['anc'])\n",
    "    output = output.replace('REPLACE_WITH_WARD', str(district['ward']))\n",
    "\n",
    "    soup = BeautifulSoup(output, 'html.parser')\n",
    "    output_pretty = soup.prettify()\n",
    "    with open('docs/districts/{smd}.html'.format(smd=district['smd']), 'w') as f:\n",
    "        f.write(output_pretty)\n"
   ]
  },
  {
   "cell_type": "code",
   "execution_count": 6,
   "metadata": {},
   "outputs": [
    {
     "data": {
      "text/plain": [
       "\"<html>\\n<head>\\n<script src='https://api.mapbox.com/mapbox-gl-js/v1.11.1/mapbox-gl.js'></script>\\n<link href='https://api.mapbox.com/mapbox-gl-js/v1.11.1/mapbox-gl.css' rel='stylesheet' />\\n</head>\\n\\n<body>\\n\\n\\n<h1>District 1B05</h1>\\n\\n<div id='map' style='width: 400px; height: 300px;'></div>\\n<script>\\nmapboxgl.accessToken = 'pk.eyJ1IjoiZGV2aW5icmFkeSIsImEiOiJjazB0aWMyb2IwYTJnM2hsb2twZm1namFoIn0.OUOlfILkB77LwrWhj_uqkQ';\\nvar map = new mapboxgl.Map({\\n    container: 'map',\\n    style: 'mapbox://styles/devinbrady/ckcnzjsxe338q1io3vf1fqade', // stylesheet location\\n    center: [-77.035, 38.934], // starting position [lng, lat]\\n    zoom: 14\\n});\\n\\nmap.addControl(new mapboxgl.NavigationControl());\\n</script>\\n\\n\\n<h2>Current Commissioner</h2>\\n\\n<p><em>Office is vacant.</em></p>\\n\\n\\n<h2>2020 Candidates</h2>\\n\\n<p><em>No known candidates.</em></p>\\n\\n<h2>Links</h2>\\n<ul>\\n    <li>ANC 1B</li>\\n    <li>Ward 1</li>\\n    <li>Submit new information</li>\\n</ul>\\n</body>\\n\\n</html>\\n\""
      ]
     },
     "execution_count": 6,
     "metadata": {},
     "output_type": "execute_result"
    }
   ],
   "source": [
    "output"
   ]
  },
  {
   "cell_type": "code",
   "execution_count": 7,
   "metadata": {},
   "outputs": [],
   "source": [
    "from bs4 import BeautifulSoup"
   ]
  },
  {
   "cell_type": "code",
   "execution_count": 8,
   "metadata": {},
   "outputs": [],
   "source": [
    "soup = BeautifulSoup(output, 'html.parser')"
   ]
  },
  {
   "cell_type": "code",
   "execution_count": 10,
   "metadata": {},
   "outputs": [
    {
     "data": {
      "text/plain": [
       "'<html>\\n <head>\\n  <script src=\"https://api.mapbox.com/mapbox-gl-js/v1.11.1/mapbox-gl.js\">\\n  </script>\\n  <link href=\"https://api.mapbox.com/mapbox-gl-js/v1.11.1/mapbox-gl.css\" rel=\"stylesheet\"/>\\n </head>\\n <body>\\n  <h1>\\n   District 1B05\\n  </h1>\\n  <div id=\"map\" style=\"width: 400px; height: 300px;\">\\n  </div>\\n  <script>\\n   mapboxgl.accessToken = \\'pk.eyJ1IjoiZGV2aW5icmFkeSIsImEiOiJjazB0aWMyb2IwYTJnM2hsb2twZm1namFoIn0.OUOlfILkB77LwrWhj_uqkQ\\';\\nvar map = new mapboxgl.Map({\\n    container: \\'map\\',\\n    style: \\'mapbox://styles/devinbrady/ckcnzjsxe338q1io3vf1fqade\\', // stylesheet location\\n    center: [-77.035, 38.934], // starting position [lng, lat]\\n    zoom: 14\\n});\\n\\nmap.addControl(new mapboxgl.NavigationControl());\\n  </script>\\n  <h2>\\n   Current Commissioner\\n  </h2>\\n  <p>\\n   <em>\\n    Office is vacant.\\n   </em>\\n  </p>\\n  <h2>\\n   2020 Candidates\\n  </h2>\\n  <p>\\n   <em>\\n    No known candidates.\\n   </em>\\n  </p>\\n  <h2>\\n   Links\\n  </h2>\\n  <ul>\\n   <li>\\n    ANC 1B\\n   </li>\\n   <li>\\n    Ward 1\\n   </li>\\n   <li>\\n    Submit new information\\n   </li>\\n  </ul>\\n </body>\\n</html>\\n'"
      ]
     },
     "execution_count": 10,
     "metadata": {},
     "output_type": "execute_result"
    }
   ],
   "source": [
    "soup.prettify()"
   ]
  },
  {
   "cell_type": "code",
   "execution_count": null,
   "metadata": {},
   "outputs": [],
   "source": []
  }
 ],
 "metadata": {
  "kernelspec": {
   "display_name": "Python 3",
   "language": "python",
   "name": "python3"
  },
  "language_info": {
   "codemirror_mode": {
    "name": "ipython",
    "version": 3
   },
   "file_extension": ".py",
   "mimetype": "text/x-python",
   "name": "python",
   "nbconvert_exporter": "python",
   "pygments_lexer": "ipython3",
   "version": "3.7.1"
  }
 },
 "nbformat": 4,
 "nbformat_minor": 2
}
